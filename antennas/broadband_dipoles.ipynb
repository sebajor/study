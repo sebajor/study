{
 "cells": [
  {
   "cell_type": "markdown",
   "id": "d89515c4-c33a-4ae8-b9b7-b037866b968b",
   "metadata": {},
   "source": [
    "# Broadband dipoles\n",
    "\n",
    "## Biconical antenna\n",
    "<center>\n",
    "<img src=\"images/wideband_dipoles/biconical_geometry.png\" style=\"height: 300px; width:300px;\">\n",
    "</center>\n",
    "\n",
    "The input impedance of an infinite cone is given by\n",
    "$$Z_c = Z_{in} = 120 ln \\left[cot\\left( \\frac{\\alpha}{4} \\right) \\right]$$\n",
    "\n",
    "Small angle biconical antennas are not very prcatical, you found them as broadband antennas with $30^\\circ < \\alpha < 60^\\circ$\n",
    "\n",
    "\n",
    "## Triangular sheet\n",
    "\n",
    "The biconical has the issue that the solid structure made it to massive for some aplications. So some variations where invented\n",
    "<center>\n",
    "<img src=\"images/wideband_dipoles/triangular_bowtie.png\" style=\"height: 300px; width:600px;\">\n",
    "</center>\n",
    "\n",
    "It has been show that 8 or more wires intersecting can approximate reasonably well a biconical.\n",
    "\n",
    "<center>\n",
    "<img src=\"images/wideband_dipoles/bowtie.png\" style=\"height: 300px; width:300px;\">\n",
    "</center>\n",
    "\n",
    "The bowtie contains a balun in the feed line that adds $180^\\circ$ phase change, and its the critical device that sets the actual bandwidth of the antenna.\n",
    "\n",
    "\n",
    "## Vivaldi antenna\n",
    "Broadband back-fire traveling wave antenna. Its a $\\lambda_s/4$ slot connected to an exponential tappered slot. The slot is excitated by a microstrip in the back of the substrate.\n",
    "There are some alternative designs that uses a circle instead of the $\\lambda_s/4$ slot. \n",
    "\n",
    "<center>\n",
    "<img src=\"images/wideband_dipoles/vivaldi.png\" style=\"height: 300px; width:600px;\">\n",
    "</center>\n",
    "\n",
    "The optimal performance is achieved when the $L$ is greater than the lowest wavelegth. $W_{min}$ affects the higher frequency and $W_{max}$ the lower one.\n",
    "\n",
    "\n",
    "\n"
   ]
  },
  {
   "cell_type": "markdown",
   "id": "ca4eee4e-24aa-4ec8-85a3-bb2fc7a2b4b0",
   "metadata": {},
   "source": [
    "# Matching techniques\n",
    "In practice the impeadance of a transmission line is real whereas the impedance of an anntena is complex.\n",
    "\n",
    "## Stubs\n",
    "\n",
    "Place a short or open circuit shunt stub a distance $s$ from the transmission line or antenna element. The length $s$ is used to match the real part of the antenna impedance equal to the characteristic impedance. The length $l$ of the stub is used to match the suceptance of the antenna impedance, but with opposite phase.\n",
    "\n",
    "The standard procedure is to use the smith chart to make this stubs. \n",
    "\n",
    "The short-circuit stub is more practical, since is easy to make.\n",
    "\n",
    "## Quarterwave transformer \n",
    "\n",
    "When having a broadband design one way to tackle it, is to use multiple transformers."
   ]
  }
 ],
 "metadata": {
  "kernelspec": {
   "display_name": "",
   "name": ""
  },
  "language_info": {
   "name": ""
  }
 },
 "nbformat": 4,
 "nbformat_minor": 5
}
