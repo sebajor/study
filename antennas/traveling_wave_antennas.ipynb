{
 "cells": [
  {
   "cell_type": "markdown",
   "id": "8be2bf9f-c020-4e87-93fb-4b0421294a16",
   "metadata": {},
   "source": [
    "## Traveling wave antennas\n",
    "\n",
    "The typical dipoles antennas uses as radiation method the formation of standing waves on the currents distributions formed by reflections on the open-ends wires, that ultimate form the radiation due coherent addition of the fields.\n",
    "This type of antennas are called standing wave antennas or resonant antennas.\n",
    "\n",
    "Antennas can be designed to have a traveling wave (uniform) pattenrns in current and voltage. To do that the antenna is terminated in a way that the reflections are minimized.\n",
    "\n",
    "This types of antennas are called traveling wave antennas or non-resonant antennas. There are two subgroups of traveling wave antennas: the slow ones where the phase velocity $v_p = \\omega/k < c$ and the fast one where $v_p >c$.\n",
    "\n",
    "In a more useful classification the traveling waves can be separated in:\n",
    "\n",
    "1. Surface wave antennas: the radiation is produced by discontinuities in the structure that interrupts the wave. One example would be a transmission line that is ended in a unmatch termination. Most of the surface wave antennas are endfire like radiation antennas.\n",
    "2. Leaky wave antennas: the radiation is built from the coupling of power in small increments per unit from a traveling structure to free space. The leaky wave antennas are lossing energy due radiation continously when moving along the wave travel direction.\n"
   ]
  },
  {
   "cell_type": "markdown",
   "id": "971995b3-08c8-4453-bced-f4767b5451ad",
   "metadata": {},
   "source": [
    "\n",
    "# Long wire\n",
    "This is an example of a slow traveling wave antenna. A wire is considered long when the length is more than one wavelength.\n",
    "\n",
    "\n",
    "\n",
    "\n",
    "\n"
   ]
  }
 ],
 "metadata": {
  "kernelspec": {
   "display_name": "",
   "name": ""
  },
  "language_info": {
   "name": ""
  }
 },
 "nbformat": 4,
 "nbformat_minor": 5
}
