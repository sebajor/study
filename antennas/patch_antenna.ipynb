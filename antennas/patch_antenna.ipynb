{
 "cells": [
  {
   "cell_type": "markdown",
   "id": "f81ad9bc-fd40-4478-a3c4-d789c617eb38",
   "metadata": {},
   "source": []
  },
  {
   "cell_type": "markdown",
   "id": "23c32165-3e5d-42a0-81f9-75a634373166",
   "metadata": {},
   "source": [
    "## Rule of thumbs\n",
    "1. For any given microstrip, if you increase the width of the microstrip you will decrease the characteristic impedance of the microstrip.\n",
    "2. [Here](https://www.youtube.com/watch?v=4qyb_hslP3A) and [here](https://www.youtube.com/watch?v=p5fqlD5Wnp8) there are intuitive ways to think about the patch antennas. You have to look at the current and voltage distribution taking account that the end of the patch acts as a open circuit. This means that at the end of the patch we have a positive $E$ pointing up and at the begining a negative $E$ pointing down. The radiation is created by the fringes created at the edges of the patch.\n",
    "3. The ideal value to start simulating a patch is to take the length $L = \\frac{\\lambda}{2\\sqrt{\\epsilon_r}}$.\n",
    "4. Since the current and the voltage are in $90^\\circ$ out of phase, at the feed the impedance is high. You can overcome this changing the feed position (there are some insertion geometries of the microstrip into the patch). Another way is just to use one of those vertical sma connectors.\n",
    "5. The bandwidth is super small. Ways to increase is to increase the height of the substract (but this heigth should be small compared to $\\lambda$) or to increase the width of the patch. Typical values are $1-3%$. If you increase the $\\epsilon_r$ the bandwidth will decrease (this is because having a small $\\epsilon_r$ allows for fringes fields, opposite to that when designing microstrips transmission lines is better to have a higher $\\epsilon_r$ to have the fields better contained in the substract.\n",
    "6. The patch has linear polarization in the direction of the microstrip feed.\n",
    "7. The peak of the beam pattern will be in the $\\hat{z}$"
   ]
  }
 ],
 "metadata": {
  "kernelspec": {
   "display_name": "Python 3 (ipykernel)",
   "language": "python",
   "name": "python3"
  },
  "language_info": {
   "codemirror_mode": {
    "name": "ipython",
    "version": 3
   },
   "file_extension": ".py",
   "mimetype": "text/x-python",
   "name": "python",
   "nbconvert_exporter": "python",
   "pygments_lexer": "ipython3",
   "version": "3.11.2"
  }
 },
 "nbformat": 4,
 "nbformat_minor": 5
}
