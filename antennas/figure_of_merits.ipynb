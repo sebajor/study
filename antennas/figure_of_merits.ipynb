{
 "cells": [
  {
   "cell_type": "markdown",
   "id": "be84e060-8b12-42aa-bbef-f500f1191e59",
   "metadata": {},
   "source": [
    "## Field Regions\n",
    "1. Reactive near field:\n",
    "    $R < 0.62 \\sqrt{D^3/\\lambda}$\n",
    "2. Radiative near field (Fresnel):\n",
    "    $0.62 \\sqrt{D^3/\\lambda} \\le R < 2D^2/\\lambda$\n",
    "3. Far field (Fraunhofer):\n",
    "     $R> 2D^2/\\lambda$"
   ]
  },
  {
   "cell_type": "markdown",
   "id": "c9e9c495-fada-49f9-98aa-e809872cd4cb",
   "metadata": {},
   "source": [
    "## Isotropic radiator\n",
    "\n",
    "$$ P_{rad} = \\int \\hat{r} \\cdot W_{0}\\left(r\\sin(\\theta)d\\theta d\\phi \\hat{r}\\right)$$\n",
    "$$ W_0 = \\frac{P_{rad}}{4\\pi r^2}$$\n",
    "\n",
    "With that we defined intensity as $U=r^2 W_{rad}$"
   ]
  },
  {
   "cell_type": "markdown",
   "id": "72dfa1e3-3433-40be-ae97-88d5832fd030",
   "metadata": {},
   "source": [
    "### Directivity : \n",
    "Its the ratio of the radiation intensity at a certain direction over the total power\n",
    "$$D(\\theta,\\phi) = 4\\pi \\frac{ F(\\theta, \\phi)}{\\int F(\\theta, phi) \\sin(\\theta) d\\theta d\\phi} $$\n",
    "\n",
    "Usually to simplify the expression you meassure the HPBW in $\\theta$ and $\\phi$ (denoted as $\\Theta_1, \\Theta_2$) and you write the directivity as\n",
    "$$D_0 = \\frac{4 \\pi}{ \\Theta_{1}\\Theta_2} $$"
   ]
  },
  {
   "cell_type": "markdown",
   "id": "20a06279-37f9-4856-ad0f-78a48d47003e",
   "metadata": {},
   "source": [
    "### Antenna efficiency: \n",
    "$$ e_0 = e_r e_c e_d$$ \n",
    "Where:\n",
    "- $e_0$ is the total antenna efficiency\n",
    "- $e_r$ the mismatch efficiency $(1-|\\Gamma|^2)$\n",
    "- $e_c$ the conduction efficiency\n",
    "- $e_d$ the dielectric efficency\n",
    "\n",
    "Normally $e_c$ and $e_d$ are complicated to compute and they are mixed in one term $e_{cd}$\n"
   ]
  },
  {
   "cell_type": "markdown",
   "id": "a2c13ac2-6e31-44b5-ac97-57ad040c0b86",
   "metadata": {},
   "source": [
    "### Gain:\n",
    "Is the ratio between the intensity received/emmited by our antenna compared to the isotropical one.\n",
    "$$ G = \\frac{4\\pi U(\\theta, \\phi)}{P_{in}(lossless\\; isotropic\\; source)}$$\n",
    "\n",
    "Since $P_{in} = P_{rad}e_{cd}$ we could write\n",
    "\n",
    "$$ G(\\theta, \\phi) = e_{cd}\\left[4\\pi \\frac{U(\\theta, \\phi)}{P_{rad}} \\right] = e_{cd} D(\\theta,\\phi) $$"
   ]
  },
  {
   "cell_type": "markdown",
   "id": "392bbba1-a31f-4176-b7a7-b2eeb0921ac1",
   "metadata": {},
   "source": [
    "### Effective Aperture area\n",
    "Is a way to represent the area of the antenna that catch input power and deliver it to the load (ie accounts for the losses by scattering and the losses).\n",
    "\n",
    "We could define the aperture efficiency as:\n",
    "$$ \\epsilon_{ap} =  \\frac{A_{em}}{A_p} = \\frac{\\text{maximum effective area}}{\\text{physical area}}$$\n",
    "\n",
    "\n",
    "Another relation is given by:\n",
    "$$ A_{em} = \\frac{\\lambda^2}{4\\pi} D$$\n",
    "\n"
   ]
  },
  {
   "cell_type": "markdown",
   "id": "e4713189-2e7c-4714-8438-3622527477ac",
   "metadata": {},
   "source": [
    "### Friis Transmission equation\n",
    "\n",
    "In far field we got a system with two antennas, one trasmitter and one receiver. the received power in an ideal case will be given by\n",
    "$$ P_{r} = e_{rx} D_{rx}(\\theta_{rx}, \\phi_{rx})\\frac{\\lambda^2}{4\\pi}W_{tx} = \\frac{\\lambda^2}{4\\pi R^2} e_{rx} D_{rx}(\\theta_{rx}, \\phi_{rx})  e_{tx} D_{tx}(\\theta_{tx}, \\phi_{tx})P_{tx} |\\hat{\\rho}_{tx} \\cdot \\hat{\\rho}_{rx}|$$\n",
    "\n",
    "Where $e_{x}$ is the antenna efficiency, and $\\hat{\\rho}_x$ is the polarization of each antenna.\n",
    "\n",
    "As summary we could write the relation between the transmitted and received power as:\n",
    "\n",
    "$$ \\frac{P_{rx}}{P_{tx}} =e_{rx}e_{tx}\\left(\\frac{\\lambda}{4\\pi R} \\right)^2 D_{rx}(\\theta_{rx}, \\phi_{rx}) D_{tx}(\\theta_{tx}, \\phi_{tx})$$"
   ]
  },
  {
   "cell_type": "markdown",
   "id": "9b15a6fe-d387-418d-b8e3-24c9a6c7ad4e",
   "metadata": {},
   "source": [
    "### Antenna temperature\n",
    "Its the temperature that you see on the antenna when measuring an object with a given antenna.\n",
    "$$ T_A = \\frac{\\int T_{source} G(\\theta, \\phi) d\\Omega}{ \\int G(\\theta, \\phi) d\\Omega}$$\n",
    "\n",
    "Its worth to note that the antenna has an noise temperature by itself, and that the final temperature that is measured is a sum of different terms. Typically we are interested on the total system temperature and for that we use calibrators and the most standard procedure is the hot-cold test to calculate the Y-factor."
   ]
  }
 ],
 "metadata": {
  "kernelspec": {
   "display_name": "Python 3 (ipykernel)",
   "language": "python",
   "name": "python3"
  },
  "language_info": {
   "codemirror_mode": {
    "name": "ipython",
    "version": 3
   },
   "file_extension": ".py",
   "mimetype": "text/x-python",
   "name": "python",
   "nbconvert_exporter": "python",
   "pygments_lexer": "ipython3",
   "version": "3.11.2"
  }
 },
 "nbformat": 4,
 "nbformat_minor": 5
}
