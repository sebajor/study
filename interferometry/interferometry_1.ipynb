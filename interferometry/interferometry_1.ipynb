{
 "cells": [
  {
   "cell_type": "markdown",
   "id": "0d24773c-645f-4dc8-a946-83ced2e503d0",
   "metadata": {},
   "source": [
    "## Interferometry\n",
    "\n",
    "We have the standard drawing where we have 2 antennas separated by a distance B (baseline), then when a wavefront arrives from the $\\theta$ direction then you will have a delay of $\\tau_g = B/c \\sin(\\theta) $\n",
    "\n",
    "$$V_1 = E \\cos(2\\pi \\omega (t-\\tau_g)) $$\n",
    "$$V_2 = E \\cos(2\\pi \\omega t) $$\n",
    "\n",
    "\n",
    "<center>\n",
    "<img src=\"images/2antenna_interferometer.png\" style=\"height: 300px; width:300px;\">\n",
    "</center>\n",
    "\n",
    "For this notebook the correlation here is just the sum of both signals, then square root them and accumulate.\n",
    "\n",
    "$$ \\left< V_{comb}(t) \\right>  = \\left<V_1+V_2+2V_1V_2 \\right> = E \\left(1+\\cos(2\\pi \\omega \\tau_g) \\right)$$\n",
    "\n",
    "\n",
    "\n",
    "\n",
    "### Visibility\n",
    "\n",
    "It is the relation between the maximum and minimum of the receipt power \n",
    "$$ V = \\frac{P_{max}-P_{min}}{P_{max}+P_{min}}$$\n",
    "\n",
    "\n",
    "For small field-view the visibilities is the two dimensional Fourier transform of the source brightness, this is the Van Cittert-Zernike theorem\n",
    "$$V(u,v) =  \\int T(x,y)e^{2\\pi i (ux+vy)} dxdy $$\n",
    "\n",
    "### Resolution\n",
    "\n",
    "The resolution of the synthetized aperture shoud be $\\theta_{res} = \\lambda / B$.\n",
    "\n",
    "\n"
   ]
  },
  {
   "cell_type": "code",
   "execution_count": null,
   "id": "a4b8be0b-7b25-4941-a08a-773a060a20df",
   "metadata": {},
   "outputs": [],
   "source": []
  },
  {
   "cell_type": "code",
   "execution_count": null,
   "id": "b2af2a1f-bff4-494d-9909-3c9fcc39137c",
   "metadata": {},
   "outputs": [],
   "source": []
  }
 ],
 "metadata": {
  "kernelspec": {
   "display_name": "Python 3 (ipykernel)",
   "language": "python",
   "name": "python3"
  },
  "language_info": {
   "codemirror_mode": {
    "name": "ipython",
    "version": 3
   },
   "file_extension": ".py",
   "mimetype": "text/x-python",
   "name": "python",
   "nbconvert_exporter": "python",
   "pygments_lexer": "ipython3",
   "version": "3.11.2"
  }
 },
 "nbformat": 4,
 "nbformat_minor": 5
}
