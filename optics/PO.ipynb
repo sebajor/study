{
 "cells": [
  {
   "cell_type": "markdown",
   "id": "a06cd0a9-4441-4107-bbb0-eda074fd558a",
   "metadata": {},
   "source": [
    "## Physical optics\n",
    "\n",
    "\n",
    "In the physical optics approximation we have a source that illuminates one body, the source itself induces currents and we compute the scattered field.\n",
    "\n",
    "The PO approximation does not work well in the shadow of the object, but works well for the front part where the scattering occurs. To generate the diffracted pattern at the end you can sum the incoming radiation with the induced one. \n",
    "\n",
    "PO does not deal with the diffraction of the edges either.\n",
    "\n",
    "<center>\n",
    "<img src=\"pictures/po_diagram.png\" style=\"height: 300px; width:300px;\">\n",
    "</center>\n",
    "\n",
    "\n",
    "\n",
    "In the case of the previous image we have $$J_{po} = 2(\\hat{n}xH^{i})$$ in the illuminated region and zero in the rest of the object.\n",
    "Then the procedure is to compute \n",
    "$$A = \\frac{\\mu}{4\\pi}  \\frac{e^{-jkr}}{r} \\int J(r') e^{jk\\hat{r}\\cdot r}ds'$$\n",
    "\n",
    "And finally compute the field as:\n",
    "$$ E^{s} = -j\\omega ( A-(A\\cdot \\hat{r})\\hat{r}) \\approx -j\\omega A $$\n",
    "\n",
    "\n",
    "\n",
    "\n",
    "\n",
    "In the Stutzman he put this equation....\n",
    "\n",
    "$$ H^{s} \\approx \\frac{j \\beta}{4\\pi r}  e^{-j\\beta r} \\int \\int (Jx\\hat{r})e^{j\\beta \\hat{r}\\cdot r'}ds'\n",
    "$$\n",
    "\n",
    "\n",
    "\n"
   ]
  }
 ],
 "metadata": {
  "kernelspec": {
   "display_name": "Python 3 (ipykernel)",
   "language": "python",
   "name": "python3"
  },
  "language_info": {
   "codemirror_mode": {
    "name": "ipython",
    "version": 3
   },
   "file_extension": ".py",
   "mimetype": "text/x-python",
   "name": "python",
   "nbconvert_exporter": "python",
   "pygments_lexer": "ipython3",
   "version": "3.11.2"
  }
 },
 "nbformat": 4,
 "nbformat_minor": 5
}
