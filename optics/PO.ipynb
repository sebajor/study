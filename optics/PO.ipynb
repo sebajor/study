{
 "cells": [
  {
   "cell_type": "markdown",
   "id": "a06cd0a9-4441-4107-bbb0-eda074fd558a",
   "metadata": {},
   "source": [
    "## Physical optics\n",
    "\n",
    "\n",
    "In the physical optics approximation we have a source that illuminates one body, the source itself induces currents and we compute the scattered field.\n",
    "\n",
    "The PO approximation does not work well in the shadow of the object, but works well for the front part where the scattering occurs. To generate the diffracted pattern at the end you can sum the incoming radiation with the induced one. \n",
    "\n",
    "PO does not deal with the diffraction of the edges either.\n",
    "\n",
    "<center>\n",
    "<img src=\"pictures/po_diagram.png\" style=\"height: 300px; width:300px;\">\n",
    "</center>\n",
    "\n",
    "\n",
    "\n",
    "In the case of the previous image we have $$J_{po} = 2(\\hat{n}xH^{i})$$ in the illuminated region and zero in the rest of the object.\n",
    "\n",
    "Then the procedure is to compute $\\vec{A}$ and with that compute $\\vec{E},\\vec{H}$.\n",
    "\n",
    "\n",
    "The equations are then:\n",
    "\n",
    "$$ E(r) = \\frac{1}{4\\pi} \\sqrt{\\frac{\\mu}{\\epsilon}} \\left[  \\int J_{e} \\left( -\\frac{j}{Rk}-\\frac{1}{k^2R^2}+\\frac{j}{k^3R^3} \\right)  +(J_{e}\\cdot \\hat{R}) \\left( \\frac{j}{kR} + \\frac{3}{k^2R^2} -\\frac{3j}{k^3R^3} \\right)  \\right] e^{-jkR}k^2 dS$$\n",
    "\n",
    "$$H(r) = \\frac{1}{4\\pi} \\sqrt{\\frac{\\epsilon}{\\mu}} \\int J_e \\times \\hat{R} \\frac{1}{k^2R^2} (1+jkR) e^{-jkR} k^2 dS$$\n",
    "\n",
    "$R =|r-r'| $ and $\\hat{R}= \\frac{r-r'}{|r-r'|}$ where r' are the points of the surface.\n"
   ]
  },
  {
   "cell_type": "markdown",
   "id": "ab4b6f45-21e8-4cd4-9510-ec3525261738",
   "metadata": {},
   "source": [
    "## Kirchhoff-Fresnel\n",
    "\n",
    "The kirchhoff-Fresnel integral is connected to the Huygens-Fresnel approach, intuitively it says that if you have an aperture and you want to compute the field at a point r from the aperture, then at each point $r'$  of the aperture it generates a spherical wave that is propagated up to r. Then $E(r)$ will be the sum of every spherical wave.\n",
    "\n",
    "The standard derivation takes a wave thats originated at s and we want to compute the field at r (dont know why the figure has s and r interchanged...).\n",
    "\n",
    "<center>\n",
    "<img src=\"pictures/kf_diagram.png\" style=\"height: 200px; width:400px;\">\n",
    "</center>\n",
    "\n",
    "Then the Kirchhoff-Fresnet integral is\n",
    "$$E(r) = \\frac{-i A}{2 \\lambda} \\int \\frac{e^{ik(r+s)}}{rs} \\left[ \\cos(n,s)-\\cos(n,r) \\right] $$\n",
    "\n",
    "Where $\\cos(n,r) = <\\hat{n}, \\hat{r}>$ and $\\cos(n,s) = <\\hat{n}, \\hat{s}>$\n",
    "\n",
    "\n",
    "Here I undersand that the equation itself has two components, first the integral is propagating the waves from the source point to the aperture, and after it propagates again the fields up r. \n",
    "Then my guess is that if you already know the field at the aprture you can further reduce the integral to:\n",
    "\n",
    "$$E(r) = \\frac{i}{2 \\lambda} \\int \\frac{E(r')e^{ikR}}{R} \\cos(\\hat{n},\\hat{R})dS $$\n",
    "Where $R=|r-r'|$ and $r'$ are the points of surface.\n",
    "\n",
    "\n",
    "\n",
    "\n",
    "\n",
    "Anyhow.. the actual integral is derived from the Helholtz equation that is:\n",
    "$$ E(r) = \\frac{1}{4\\pi} \\int \\left[ E \\frac{\\partial}{\\partial n} \\left( \\frac{e^{ikR}}{R} \\right) - \\frac{e^{ikR}}{R} \\frac{\\partial}{\\partial n} \\bigl( E \\bigr) \\right]dS$$\n",
    "\n",
    "Then the most correct equation should be:\n",
    "\n",
    "$$ E(r) = \\frac{1}{4\\pi} \\int \\frac{e^{ikr}}{r} \\left[ ik E(s) \\cos(\\hat{n}, \\hat{r}) - \\frac{\\partial E(s)}{\\partial n} \\right] dS  $$\n",
    "\n",
    "Note that $\\partial_n F = \\nabla F \\cdot \\hat{n}$\n"
   ]
  }
 ],
 "metadata": {
  "kernelspec": {
   "display_name": "Python 3 (ipykernel)",
   "language": "python",
   "name": "python3"
  },
  "language_info": {
   "codemirror_mode": {
    "name": "ipython",
    "version": 3
   },
   "file_extension": ".py",
   "mimetype": "text/x-python",
   "name": "python",
   "nbconvert_exporter": "python",
   "pygments_lexer": "ipython3",
   "version": "3.11.2"
  }
 },
 "nbformat": 4,
 "nbformat_minor": 5
}
